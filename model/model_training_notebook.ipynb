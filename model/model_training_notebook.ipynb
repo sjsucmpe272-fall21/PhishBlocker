{
  "nbformat": 4,
  "nbformat_minor": 0,
  "metadata": {
    "colab": {
      "name": "CMPE272-Project.ipynb",
      "provenance": [],
      "collapsed_sections": []
    },
    "kernelspec": {
      "display_name": "Python 3",
      "name": "python3"
    },
    "language_info": {
      "name": "python"
    }
  },
  "cells": [
    {
      "cell_type": "markdown",
      "metadata": {
        "id": "H130nU3jMFyE"
      },
      "source": [
        "Sources\n",
        "\n",
        "Datasets\n",
        " - https://www.unb.ca/cic/datasets/url-2016.html\n",
        " - https://research.aalto.fi/en/datasets/phishstorm-phishing-legitimate-url-dataset\n",
        " - https://www.kaggle.com/teseract/urldataset\n",
        "\n",
        "Papers\n",
        " - https://arxiv.org/pdf/1701.07179.pdf"
      ]
    },
    {
      "cell_type": "code",
      "metadata": {
        "id": "19aJUyaPMFjK"
      },
      "source": [
        ""
      ],
      "execution_count": null,
      "outputs": []
    },
    {
      "cell_type": "code",
      "metadata": {
        "colab": {
          "base_uri": "https://localhost:8080/"
        },
        "id": "oN9vmxCHUYzC",
        "outputId": "56b9486a-6250-4e31-e940-30edd6936596"
      },
      "source": [
        "!unzip urlset.csv.zip"
      ],
      "execution_count": null,
      "outputs": [
        {
          "output_type": "stream",
          "name": "stdout",
          "text": [
            "Archive:  urlset.csv.zip\n",
            "  inflating: urlset.csv              \n"
          ]
        }
      ]
    },
    {
      "cell_type": "code",
      "metadata": {
        "colab": {
          "base_uri": "https://localhost:8080/"
        },
        "id": "YM7wZpZ-PJft",
        "outputId": "c5884ebf-3619-4466-fdb3-6a82e406e843"
      },
      "source": [
        "!unzip archive.zip"
      ],
      "execution_count": null,
      "outputs": [
        {
          "output_type": "stream",
          "name": "stdout",
          "text": [
            "Archive:  archive.zip\n",
            "  inflating: malicious_phish.csv     \n"
          ]
        }
      ]
    },
    {
      "cell_type": "code",
      "metadata": {
        "id": "IQaOhR0yUdan"
      },
      "source": [
        "import pandas as pd\n",
        "from collections import Counter\n",
        "import seaborn as sns\n",
        "import matplotlib.pyplot as plt\n",
        "from torchvision import transforms\n",
        "import numpy as np\n",
        "from sklearn.model_selection import train_test_split\n",
        "from sklearn.linear_model import LogisticRegression\n",
        "from sklearn.ensemble import RandomForestClassifier\n",
        "from sklearn.metrics import accuracy_score\n",
        "from sklearn.model_selection import KFold\n",
        "from sklearn.metrics import precision_score\n",
        "from sklearn.metrics import recall_score\n",
        "from sklearn.metrics import roc_auc_score"
      ],
      "execution_count": null,
      "outputs": []
    },
    {
      "cell_type": "code",
      "metadata": {
        "colab": {
          "base_uri": "https://localhost:8080/"
        },
        "id": "SCJMw5DThclY",
        "outputId": "61036520-3a10-4011-89b7-dc1275f702bb"
      },
      "source": [
        "!wget https://downloads.majestic.com/majestic_million.csv -O majestic_million.csv"
      ],
      "execution_count": null,
      "outputs": [
        {
          "output_type": "stream",
          "name": "stdout",
          "text": [
            "--2021-12-04 05:07:51--  https://downloads.majestic.com/majestic_million.csv\n",
            "Resolving downloads.majestic.com (downloads.majestic.com)... 185.17.199.9\n",
            "Connecting to downloads.majestic.com (downloads.majestic.com)|185.17.199.9|:443... connected.\n",
            "HTTP request sent, awaiting response... 200 OK\n",
            "Length: 81358592 (78M) [text/csv]\n",
            "Saving to: ‘majestic_million.csv’\n",
            "\n",
            "majestic_million.cs 100%[===================>]  77.59M  19.1MB/s    in 4.1s    \n",
            "\n",
            "2021-12-04 05:07:56 (19.1 MB/s) - ‘majestic_million.csv’ saved [81358592/81358592]\n",
            "\n"
          ]
        }
      ]
    },
    {
      "cell_type": "code",
      "metadata": {
        "id": "unyHvZ0rhjE-"
      },
      "source": [
        "top1m = pd.read_csv('majestic_million.csv')"
      ],
      "execution_count": null,
      "outputs": []
    },
    {
      "cell_type": "code",
      "metadata": {
        "id": "WZtWejlihlXs"
      },
      "source": [
        "goodsites = top1m.iloc[:10000].Domain.to_list()\n",
        "goodsites_target = [0] * len(goodsites)"
      ],
      "execution_count": null,
      "outputs": []
    },
    {
      "cell_type": "code",
      "metadata": {
        "id": "kowcJrubUfq0"
      },
      "source": [
        "df = pd.read_csv('malicious_phish.csv')"
      ],
      "execution_count": null,
      "outputs": []
    },
    {
      "cell_type": "code",
      "metadata": {
        "id": "HuJhqNnkoqJt"
      },
      "source": [
        "benign_urls = df[df.type=='benign'].url.to_list()[:100000]\n",
        "benign_targets = [0]*len(benign_urls)"
      ],
      "execution_count": null,
      "outputs": []
    },
    {
      "cell_type": "code",
      "metadata": {
        "id": "3O_Ie2Ct9eAq"
      },
      "source": [
        "bad_urls1 = df[df.type == 'malware'].url.to_list()\n",
        "bad_labels1 = [1]*len(bad_urls1)"
      ],
      "execution_count": null,
      "outputs": []
    },
    {
      "cell_type": "code",
      "metadata": {
        "id": "xLBc7sCekhlF"
      },
      "source": [
        "labels = list()\n",
        "urls = list()\n",
        "cnt = 0\n",
        "with open('urlset.csv', 'r') as f:\n",
        "  row = f.readline().split(',')\n",
        "  while True:\n",
        "    try:\n",
        "      row = f.readline().split(',')\n",
        "      if row == [''] or row == ['\\n']:\n",
        "        break\n",
        "      url = row[0].strip('\"')\n",
        "      label = int(float(row[-1].strip('\\n')))\n",
        "\n",
        "      urls.append(url)\n",
        "      labels.append(label)\n",
        "    except:\n",
        "      pass"
      ],
      "execution_count": null,
      "outputs": []
    },
    {
      "cell_type": "code",
      "metadata": {
        "id": "Sv_Lf65kwowh"
      },
      "source": [
        "df3 = pd.read_csv('urldata.csv')"
      ],
      "execution_count": null,
      "outputs": []
    },
    {
      "cell_type": "code",
      "metadata": {
        "id": "Zv2hs32ewq9L"
      },
      "source": [
        "df3_neg = df3[df3.label == 'bad']\n",
        "df3_pos = df3[df3.label != 'bad']\n",
        "df3_pos = df3_pos.iloc[:len(df3_neg)]\n",
        "df3_subset = pd.concat([df3_neg, df3_pos])\n",
        "\n",
        "more_urls = df3_subset.url.to_list()\n",
        "more_labels = ([1]*len(df3_neg)) + ([0]*len(df3_pos))"
      ],
      "execution_count": null,
      "outputs": []
    },
    {
      "cell_type": "markdown",
      "metadata": {
        "id": "D19b_URaX9Ml"
      },
      "source": [
        "## Feature Extraction\n",
        "\n",
        "Statistical Features.\n",
        "\n",
        "In this project, we decided to extract lexical features from the URLs. These are features that describe the URL itself. For example, URL length, number to letter ratio, host name, domain...etc\n",
        "\n",
        "Features:\n",
        "  - link length\n",
        "  - domain name length\n",
        "  - number of dots\n",
        "  - number of hyphens\n",
        "  - number of numerals in domain name\n",
        "  - number of semicolons\n",
        "  - number of underscores\n",
        "  - number of question marks\n",
        "  - number of equals sign\n",
        "  - number of ampersands\n",
        "  - number of @s\n",
        "  - number of non-alphanumeric characters\n",
        "  - ratio of digit to letters"
      ]
    },
    {
      "cell_type": "code",
      "metadata": {
        "id": "ib1NbnRKs5fT"
      },
      "source": [
        "from collections import Counter"
      ],
      "execution_count": null,
      "outputs": []
    },
    {
      "cell_type": "code",
      "metadata": {
        "id": "Ao1pn6S8vDQL"
      },
      "source": [
        "def extract_features(url):\n",
        "    for prefix in ['https://', 'http://', 'www.']:\n",
        "      if prefix in url:\n",
        "        url = url.replace(prefix, '')\n",
        "    link_len = len(url)\n",
        "    n_perc20 = url.count('%20')\n",
        "\n",
        "    counter = Counter(url)\n",
        "\n",
        "    n_semi = counter[';']\n",
        "    n_colo = counter[':']\n",
        "    n_at = counter['@']\n",
        "    n_amp = counter['&']\n",
        "    n_perc = counter['%']\n",
        "    n_eq = counter['=']\n",
        "    n_slash = counter['/']\n",
        "\n",
        "    n_ascii = 0\n",
        "    n_nonascii = 0\n",
        "    n_numbers = 0\n",
        "    n_alpha = 0\n",
        "    n_nonalpha = 0\n",
        "\n",
        "    for c in url:\n",
        "        if c.isalpha():\n",
        "            n_alpha += 1\n",
        "        elif c.isnumeric():\n",
        "            n_numbers += 1\n",
        "        elif not c.isalpha():\n",
        "            n_nonalpha += 1\n",
        "        elif c.isascii():\n",
        "            n_ascii += 1\n",
        "        elif not c.isascii():\n",
        "            n_nonascii += 1\n",
        "        else:\n",
        "            print(f\"Shouldn't really be here.. input: {c}\")\n",
        "\n",
        "    url_s = url.split('/')\n",
        "    domain_name = url_s[0]\n",
        "    n_hyph = domain_name.count('-')\n",
        "    domain_name_len = len(domain_name)\n",
        "\n",
        "    n_num_in_domain = 0\n",
        "    domain_len = len(domain_name)\n",
        "    n_subdomains = domain_name.count('.')\n",
        "    for c in domain_name:\n",
        "        if c.isnumeric():\n",
        "            n_num_in_domain += 1\n",
        "    n_dot_js = url.count('.js')\n",
        "\n",
        "    return np.array([\n",
        "        # domain_len,\n",
        "        n_dot_js,\n",
        "        n_subdomains,\n",
        "        n_perc,\n",
        "        n_hyph,\n",
        "        n_amp,\n",
        "        n_perc,\n",
        "        n_numbers,\n",
        "        n_alpha,\n",
        "        n_nonalpha,\n",
        "        n_num_in_domain,\n",
        "        counter['a'],\n",
        "        counter['b'],\n",
        "        counter['c'],\n",
        "        counter['d'],\n",
        "        counter['e'],\n",
        "        counter['f'],\n",
        "        counter['g'],\n",
        "        counter['h'],\n",
        "        counter['i'],\n",
        "        counter['j'],\n",
        "        counter['k'],\n",
        "        counter['l'],\n",
        "        counter['m'],\n",
        "        counter['n'],\n",
        "        counter['o'],\n",
        "        counter['p'],\n",
        "        counter['q'],\n",
        "        counter['r'],\n",
        "        counter['s'],\n",
        "        counter['t'],\n",
        "        counter['u'],\n",
        "        counter['v'],\n",
        "        counter['w'],\n",
        "        counter['x'],\n",
        "        counter['y'],\n",
        "        counter['z'],\n",
        "    ], dtype=np.float).reshape(1, -1) # convert from shape (16,) to (1, 16)"
      ],
      "execution_count": null,
      "outputs": []
    },
    {
      "cell_type": "code",
      "metadata": {
        "colab": {
          "base_uri": "https://localhost:8080/"
        },
        "id": "sHzXaqixwmq_",
        "outputId": "2b92a2ca-4950-4af6-fb68-10c0a19c9102"
      },
      "source": [
        "url_features_list = list(map(extract_features, bad_urls1 + urls + more_urls + goodsites + benign_urls))\n",
        "url_features = np.concatenate(url_features_list)\n",
        "# n_samples, n_features\n",
        "url_features.shape"
      ],
      "execution_count": null,
      "outputs": [
        {
          "output_type": "execute_result",
          "data": {
            "text/plain": [
              "(389717, 36)"
            ]
          },
          "metadata": {},
          "execution_count": 55
        }
      ]
    },
    {
      "cell_type": "code",
      "metadata": {
        "colab": {
          "base_uri": "https://localhost:8080/"
        },
        "id": "tFESW7EtvfHu",
        "outputId": "e1954963-9bfc-4c83-f18d-1d321942e1a4"
      },
      "source": [
        "targets = np.array(bad_labels1 + labels + more_labels + goodsites_target + benign_targets)\n",
        "len(targets)"
      ],
      "execution_count": null,
      "outputs": [
        {
          "output_type": "execute_result",
          "data": {
            "text/plain": [
              "389717"
            ]
          },
          "metadata": {},
          "execution_count": 56
        }
      ]
    },
    {
      "cell_type": "markdown",
      "metadata": {
        "id": "hlrLDKw20ezg"
      },
      "source": [
        "#### Logistic Regresssion Model"
      ]
    },
    {
      "cell_type": "code",
      "metadata": {
        "id": "g9TsYeyb8J_r"
      },
      "source": [
        "reg = LogisticRegression(max_iter=2**30)"
      ],
      "execution_count": null,
      "outputs": []
    },
    {
      "cell_type": "code",
      "metadata": {
        "colab": {
          "base_uri": "https://localhost:8080/"
        },
        "id": "q9ZyKm2YlzXK",
        "outputId": "a0654996-1011-4155-ef6d-abda4211a961"
      },
      "source": [
        "fold_idx = 0\n",
        "for train_idx, test_idx in KFold(n_splits=5, shuffle=True).split(url_features):\n",
        "  X, x = url_features[train_idx], url_features[test_idx]\n",
        "  Y, y = targets[train_idx], targets[test_idx]\n",
        "  reg.fit(X,Y)\n",
        "  print(f\"Fold {fold_idx}, Accuracy Score: {accuracy_score(reg.predict(x), y)}\")\n",
        "  fold_idx += 1\n"
      ],
      "execution_count": null,
      "outputs": [
        {
          "output_type": "stream",
          "name": "stdout",
          "text": [
            "Fold 0, Accuracy Score: 0.7828825823668275\n",
            "Fold 1, Accuracy Score: 0.7835753874576619\n",
            "Fold 2, Accuracy Score: 0.78373939930462\n",
            "Fold 3, Accuracy Score: 0.7789538508910357\n",
            "Fold 4, Accuracy Score: 0.781827745916888\n"
          ]
        }
      ]
    },
    {
      "cell_type": "code",
      "metadata": {
        "colab": {
          "base_uri": "https://localhost:8080/"
        },
        "id": "2xYUQK3V0E7S",
        "outputId": "e9fdf986-7a66-4091-b2d3-60cc07782fd8"
      },
      "source": [
        "print(f\"Precision\\t: {precision_score(reg.predict(x), y)}\")\n",
        "print(f\"Recall  \\t: {recall_score(reg.predict(x), y)}\")\n",
        "print(f\"Accuracy\\t: {accuracy_score(reg.predict(x), y)}\")\n",
        "print(f\"ROC AUC  \\t: {roc_auc_score(reg.predict(x), y)}\")"
      ],
      "execution_count": null,
      "outputs": [
        {
          "output_type": "stream",
          "name": "stdout",
          "text": [
            "Precision\t: 0.6055022474417419\n",
            "Recall  \t: 0.8040128682695564\n",
            "Accuracy\t: 0.781827745916888\n",
            "ROC AUC  \t: 0.7880960160490255\n"
          ]
        }
      ]
    },
    {
      "cell_type": "code",
      "metadata": {
        "id": "OSFc7tpR5L_1"
      },
      "source": [
        "probs = reg.predict_proba(extract_features('https://www.google.com/hellow'))[0]"
      ],
      "execution_count": null,
      "outputs": []
    },
    {
      "cell_type": "code",
      "metadata": {
        "id": "t_Tgaebv7wyz"
      },
      "source": [
        "prob_good = probs[0]\n",
        "prob_bad = probs[1]"
      ],
      "execution_count": null,
      "outputs": []
    },
    {
      "cell_type": "code",
      "metadata": {
        "colab": {
          "base_uri": "https://localhost:8080/"
        },
        "id": "sQPGTdJTBKmq",
        "outputId": "7ad82b89-457d-4032-e2b3-009e9b41253f"
      },
      "source": [
        "print(prob_good, prob_bad)"
      ],
      "execution_count": null,
      "outputs": [
        {
          "output_type": "stream",
          "name": "stdout",
          "text": [
            "0.834227591478219 0.16577240852178102\n"
          ]
        }
      ]
    },
    {
      "cell_type": "markdown",
      "metadata": {
        "id": "d2Oz3NKq0hkk"
      },
      "source": [
        "## Random Forest Model"
      ]
    },
    {
      "cell_type": "code",
      "metadata": {
        "id": "GHrn5Dmj0nDO"
      },
      "source": [
        "clf = RandomForestClassifier()"
      ],
      "execution_count": null,
      "outputs": []
    },
    {
      "cell_type": "code",
      "metadata": {
        "colab": {
          "base_uri": "https://localhost:8080/"
        },
        "id": "ZAR3Vich0lgG",
        "outputId": "de8239b8-5978-458c-fad5-912ed5e5d900"
      },
      "source": [
        "fold_idx = 0\n",
        "for train_idx, test_idx in KFold(n_splits=5, shuffle=True).split(url_features):\n",
        "  X, x = url_features[train_idx], url_features[test_idx]\n",
        "  Y, y = targets[train_idx], targets[test_idx]\n",
        "  clf.fit(X,Y)\n",
        "  print(f\"Fold {fold_idx}, Accuracy Score: {accuracy_score(clf.predict(x), y)}\")\n",
        "  fold_idx += 1"
      ],
      "execution_count": null,
      "outputs": [
        {
          "output_type": "stream",
          "name": "stdout",
          "text": [
            "Fold 0, Accuracy Score: 0.9070685119524191\n",
            "Fold 1, Accuracy Score: 0.9083552556330778\n",
            "Fold 2, Accuracy Score: 0.9060806656849149\n",
            "Fold 3, Accuracy Score: 0.9070528859213931\n",
            "Fold 4, Accuracy Score: 0.9066382625852479\n"
          ]
        }
      ]
    },
    {
      "cell_type": "code",
      "metadata": {
        "colab": {
          "base_uri": "https://localhost:8080/"
        },
        "id": "LWOshe6H0vjL",
        "outputId": "997ae749-abd9-42ce-f20e-b4f6598b3aeb"
      },
      "source": [
        "print(f\"Precision\\t: {precision_score(clf.predict(x), y)}\")\n",
        "print(f\"Recall  \\t: {recall_score(clf.predict(x), y)}\")\n",
        "print(f\"Accuracy\\t: {accuracy_score(clf.predict(x), y)}\")\n",
        "print(f\"ROC AUC  \\t: {roc_auc_score(clf.predict(x), y)}\")"
      ],
      "execution_count": null,
      "outputs": [
        {
          "output_type": "stream",
          "name": "stdout",
          "text": [
            "Precision\t: 0.8551971096972216\n",
            "Recall  \t: 0.9303975790462277\n",
            "Accuracy\t: 0.9066382625852479\n",
            "ROC AUC  \t: 0.9102271917176081\n"
          ]
        }
      ]
    },
    {
      "cell_type": "markdown",
      "metadata": {
        "id": "I9yR9QkG0wSy"
      },
      "source": [
        "## Qualitative analysis"
      ]
    },
    {
      "cell_type": "code",
      "metadata": {
        "colab": {
          "base_uri": "https://localhost:8080/"
        },
        "id": "ypAmVMMoVJgi",
        "outputId": "6fa6d274-c10d-4433-b4a4-2019a4a37223"
      },
      "source": [
        "clf.predict(extract_features('http://219.155.142.211:55621/Mozi'))"
      ],
      "execution_count": null,
      "outputs": [
        {
          "output_type": "execute_result",
          "data": {
            "text/plain": [
              "array([1])"
            ]
          },
          "metadata": {},
          "execution_count": 113
        }
      ]
    },
    {
      "cell_type": "code",
      "metadata": {
        "colab": {
          "base_uri": "https://localhost:8080/"
        },
        "id": "shO2D-xFSYwG",
        "outputId": "c93b7a01-5e43-46ba-b4d4-25a040f7d3bc"
      },
      "source": [
        "reg.predict(extract_features('facebook.com'))"
      ],
      "execution_count": null,
      "outputs": [
        {
          "output_type": "execute_result",
          "data": {
            "text/plain": [
              "array([0])"
            ]
          },
          "metadata": {},
          "execution_count": 119
        }
      ]
    },
    {
      "cell_type": "code",
      "metadata": {
        "colab": {
          "base_uri": "https://localhost:8080/"
        },
        "id": "AnweqoaEMniw",
        "outputId": "30519ec4-c5fb-4851-ab69-d9d26421d269"
      },
      "source": [
        "clf.predict(extract_features('https://github.com/sjsucmpe272-fall21/PhishBlocker'))"
      ],
      "execution_count": null,
      "outputs": [
        {
          "output_type": "execute_result",
          "data": {
            "text/plain": [
              "array([0])"
            ]
          },
          "metadata": {},
          "execution_count": 115
        }
      ]
    },
    {
      "cell_type": "code",
      "metadata": {
        "colab": {
          "base_uri": "https://localhost:8080/"
        },
        "id": "AT2ZGO_HS8OV",
        "outputId": "112fd3d3-3204-4a4b-acd1-11fa9dc43019"
      },
      "source": [
        "clf.predict(extract_features('https://www.cyberciti.biz/faq/how-to-find-public-ip-address-aws-ec2-or-lightsail-vm/'))"
      ],
      "execution_count": null,
      "outputs": [
        {
          "output_type": "execute_result",
          "data": {
            "text/plain": [
              "array([0])"
            ]
          },
          "metadata": {},
          "execution_count": 116
        }
      ]
    },
    {
      "cell_type": "code",
      "metadata": {
        "colab": {
          "base_uri": "https://localhost:8080/"
        },
        "id": "51dNjsvxS9UD",
        "outputId": "c850a39c-598c-48d8-9946-dd228fa81695"
      },
      "source": [
        "clf.predict(extract_features('http://211.137.225.95:47475/Mozi.m'))"
      ],
      "execution_count": null,
      "outputs": [
        {
          "output_type": "execute_result",
          "data": {
            "text/plain": [
              "array([1])"
            ]
          },
          "metadata": {},
          "execution_count": 117
        }
      ]
    },
    {
      "cell_type": "code",
      "metadata": {
        "id": "EqHrO5vUzils"
      },
      "source": [
        "from google.colab import drive\n",
        "drive.mount('/content/drive')"
      ],
      "execution_count": null,
      "outputs": []
    },
    {
      "cell_type": "code",
      "metadata": {
        "id": "eY9stEKnzCT6"
      },
      "source": [
        "import joblib"
      ],
      "execution_count": null,
      "outputs": []
    },
    {
      "cell_type": "code",
      "metadata": {
        "colab": {
          "base_uri": "https://localhost:8080/"
        },
        "id": "qiI4JrB7oQ-w",
        "outputId": "fb66a9b9-b1d0-48e6-fbed-24135856697f"
      },
      "source": [
        "joblib.dump(reg, 'model.joblib')"
      ],
      "execution_count": null,
      "outputs": [
        {
          "output_type": "execute_result",
          "data": {
            "text/plain": [
              "['model.joblib']"
            ]
          },
          "metadata": {},
          "execution_count": 63
        }
      ]
    },
    {
      "cell_type": "code",
      "metadata": {
        "id": "p_zUecSF4AD6",
        "colab": {
          "base_uri": "https://localhost:8080/"
        },
        "outputId": "2b7ac293-5e46-4e1b-9e30-e6e55b91cbbe"
      },
      "source": [
        "!mv model_test.joblib drive/MyDrive"
      ],
      "execution_count": null,
      "outputs": [
        {
          "output_type": "stream",
          "name": "stdout",
          "text": [
            "mv: cannot stat 'model_test.joblib': No such file or directory\n"
          ]
        }
      ]
    },
    {
      "cell_type": "code",
      "metadata": {
        "colab": {
          "base_uri": "https://localhost:8080/"
        },
        "id": "9J17F7TEE0SZ",
        "outputId": "01a6da2f-4f1b-4963-8ce3-599c8f90f096"
      },
      "source": [
        "!ls -al"
      ],
      "execution_count": null,
      "outputs": [
        {
          "output_type": "stream",
          "name": "stdout",
          "text": [
            "total 178976\n",
            "drwxr-xr-x 1 root root     4096 Dec  4 05:54 .\n",
            "drwxr-xr-x 1 root root     4096 Dec  4 05:05 ..\n",
            "-rw-r--r-- 1 root root 17748901 Dec  4 05:07 archive.zip\n",
            "drwxr-xr-x 4 root root     4096 Nov 18 14:35 .config\n",
            "drwx------ 5 root root     4096 Dec  4 05:06 drive\n",
            "drwxr-xr-x 2 root root     4096 Dec  4 05:10 .ipynb_checkpoints\n",
            "-rw-r--r-- 1 root root 81358592 Dec  3 06:12 majestic_million.csv\n",
            "-rw-r--r-- 1 root root 45664439 Jul 23 18:03 malicious_phish.csv\n",
            "-rw-r--r-- 1 root root     1186 Dec  4 05:54 model.joblib\n",
            "drwxr-xr-x 1 root root     4096 Nov 18 14:36 sample_data\n",
            "-rw-r--r-- 1 root root 22774334 Dec  4 05:07 urldata.csv\n",
            "-rwxrwxrwx 1 root root 12283023 Mar 27  2013 urlset.csv\n",
            "-rw-r--r-- 1 root root  3400239 Dec  4 05:07 urlset.csv.zip\n"
          ]
        }
      ]
    },
    {
      "cell_type": "code",
      "metadata": {
        "id": "mrbLFg8DLBsn"
      },
      "source": [
        ""
      ],
      "execution_count": null,
      "outputs": []
    }
  ]
}